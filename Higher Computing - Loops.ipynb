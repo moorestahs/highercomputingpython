{
 "cells": [
  {
   "cell_type": "markdown",
   "metadata": {},
   "source": [
    "# Loops"
   ]
  },
  {
   "cell_type": "markdown",
   "metadata": {},
   "source": [
    "## Fixed Loops\n",
    "\n",
    "The for loop is the main to do fixed loops in Pyton. For simple loops we use the range function to control how many times we loop."
   ]
  },
  {
   "cell_type": "code",
   "execution_count": null,
   "metadata": {},
   "outputs": [],
   "source": [
    "for loop in range(10):\n",
    "    print(\"Hello\")"
   ]
  },
  {
   "cell_type": "markdown",
   "metadata": {},
   "source": [
    "## Conditional Loops\n",
    "\n",
    "The while loop is used for conditional loops. Look at the code below which asks for someone's password and then keeps asking them until they enter the word 'school"
   ]
  },
  {
   "cell_type": "code",
   "execution_count": 1,
   "metadata": {},
   "outputs": [
    {
     "name": "stdout",
     "output_type": "stream",
     "text": [
      "Please enter the password: jkjdkf\n",
      "Sorry. Please try againjkdjkfj\n",
      "Sorry. Please try againschool\n",
      "Password entered correctly\n"
     ]
    }
   ],
   "source": [
    "password = input(\"Please enter the password: \")\n",
    "while password != \"school\":\n",
    "    password = input(\"Sorry. Please try again\")\n",
    "print(\"Password entered correctly\")"
   ]
  },
  {
   "cell_type": "markdown",
   "metadata": {},
   "source": [
    "# Selection\n",
    "\n",
    "To perform a selection in Python we use the If statement.\n",
    "\n",
    "To check if the air temperature is over 20 degrees we might do:"
   ]
  },
  {
   "cell_type": "code",
   "execution_count": 3,
   "metadata": {},
   "outputs": [
    {
     "name": "stdout",
     "output_type": "stream",
     "text": [
      "Please enter a temperature between 0 and 3020\n",
      "The air temperature is warm\n"
     ]
    }
   ],
   "source": [
    "temperature = int(input('Please enter a temperature between 0 and 30'))\n",
    "if temperature >= 20:\n",
    "    print(\"The air temperature is warm\")"
   ]
  },
  {
   "cell_type": "markdown",
   "metadata": {},
   "source": [
    "To also add in an else condition we can do:"
   ]
  },
  {
   "cell_type": "code",
   "execution_count": null,
   "metadata": {},
   "outputs": [],
   "source": [
    "temperature = int(input('Please enter a temperature between 0 and 30'))\n",
    "if temperature >= 20:\n",
    "    print(\"The air temperature is warm\")\n",
    "else:\n",
    "    print(\"The air temperture is cool\")"
   ]
  }
 ],
 "metadata": {
  "kernelspec": {
   "display_name": "Python 3",
   "language": "python",
   "name": "python3"
  },
  "language_info": {
   "codemirror_mode": {
    "name": "ipython",
    "version": 3
   },
   "file_extension": ".py",
   "mimetype": "text/x-python",
   "name": "python",
   "nbconvert_exporter": "python",
   "pygments_lexer": "ipython3",
   "version": "3.7.2"
  }
 },
 "nbformat": 4,
 "nbformat_minor": 2
}
